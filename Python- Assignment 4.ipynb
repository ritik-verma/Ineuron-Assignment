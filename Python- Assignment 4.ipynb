{
 "cells": [
  {
   "cell_type": "markdown",
   "metadata": {},
   "source": [
    "## 1.1 Write a Python Program(with class concepts) to find the area of the triangle using the below formula.\n",
    "\n",
    "## area = (s*(s-a)*(s-b)*(s-c)) ** 0.5\n",
    "\n",
    "## Function to take the length of the sides of triangle from user should be defined in the parent class and function to calculate the area should be defined in subclass."
   ]
  },
  {
   "cell_type": "code",
   "execution_count": 1,
   "metadata": {},
   "outputs": [],
   "source": [
    "class AreaOfTriangle:\n",
    "    \n",
    "    def __init__(self,a,b,c):\n",
    "        self.a= a\n",
    "        self.b= b\n",
    "        self.c= c\n",
    "        self.s= (a+b+c)/2\n",
    "        \n",
    "    def area(self):\n",
    "        return (self.s * (self.s-self.a) * (self.s-self.b) * (self.s-self.c)) ** 0.5 "
   ]
  },
  {
   "cell_type": "code",
   "execution_count": 2,
   "metadata": {},
   "outputs": [
    {
     "name": "stdout",
     "output_type": "stream",
     "text": [
      "Enter side1 of triangle: 3\n",
      "Enter side2 of triangle: 4\n",
      "Enter side3 of triangle: 5\n",
      "Area of triangle =  6.0\n"
     ]
    }
   ],
   "source": [
    "side1= int(input(\"Enter side1 of triangle: \"))\n",
    "side2= int(input(\"Enter side2 of triangle: \"))\n",
    "side3= int(input(\"Enter side3 of triangle: \"))\n",
    "\n",
    "p= AreaOfTriangle(side1,side2,side3)\n",
    "print(\"Area of triangle = \",p.area())"
   ]
  },
  {
   "cell_type": "markdown",
   "metadata": {},
   "source": [
    "##  1.2 Write a function filter_long_words() that takes a list of words and an integer n and returns the list of words that are longer than n."
   ]
  },
  {
   "cell_type": "code",
   "execution_count": 3,
   "metadata": {},
   "outputs": [],
   "source": [
    "def filter_long_words(words, n):\n",
    "    return list(filter(lambda i: len(i)>n,words)) "
   ]
  },
  {
   "cell_type": "code",
   "execution_count": 4,
   "metadata": {},
   "outputs": [
    {
     "data": {
      "text/plain": [
       "['brilliant', 'student']"
      ]
     },
     "execution_count": 4,
     "metadata": {},
     "output_type": "execute_result"
    }
   ],
   "source": [
    "words=[\"rahul\",\"is\",\"a\",\"brilliant\",\"student\"]\n",
    "filter_long_words(words,5)"
   ]
  },
  {
   "cell_type": "markdown",
   "metadata": {},
   "source": [
    "## 2.1 Write a Python program using function concept that maps list of words into a list of integers representing the lengths of the corresponding words.\n",
    "### Hint: If a list [ ab,cde,erty] is passed on to the python function output should come as [2,3,4]. Here 2,3 and 4 are the lengths of the words in the list."
   ]
  },
  {
   "cell_type": "code",
   "execution_count": 5,
   "metadata": {},
   "outputs": [
    {
     "name": "stdout",
     "output_type": "stream",
     "text": [
      "length of words in list:  [4, 2, 1, 9, 6]\n"
     ]
    }
   ],
   "source": [
    "words= [\"this\", \"is\",\"a\",\"beautiful\",\"flower\"]\n",
    "\n",
    "def wordlength():\n",
    "    return list(map(lambda x: len(x),words))\n",
    "\n",
    "print(\"length of words in list: \" ,wordlength())"
   ]
  },
  {
   "cell_type": "markdown",
   "metadata": {},
   "source": [
    "## 2.2 Write a Python function which takes a character (i.e. a string of length 1) and returns True if it is a vowel, False otherwise."
   ]
  },
  {
   "cell_type": "code",
   "execution_count": 6,
   "metadata": {},
   "outputs": [
    {
     "name": "stdout",
     "output_type": "stream",
     "text": [
      "Enter a character: r\n",
      "is character r a vowel : False\n"
     ]
    }
   ],
   "source": [
    "def check_vowel(char):\n",
    "    vowels=['a','e','i','o','u']\n",
    "    if char in vowels:\n",
    "        return True\n",
    "    else:\n",
    "        return False\n",
    "    \n",
    "sample= input(\"Enter a character: \")\n",
    "print(\"is character \"+ sample +\" a vowel :\" ,check_vowel(sample))"
   ]
  }
 ],
 "metadata": {
  "kernelspec": {
   "display_name": "Python 3",
   "language": "python",
   "name": "python3"
  },
  "language_info": {
   "codemirror_mode": {
    "name": "ipython",
    "version": 3
   },
   "file_extension": ".py",
   "mimetype": "text/x-python",
   "name": "python",
   "nbconvert_exporter": "python",
   "pygments_lexer": "ipython3",
   "version": "3.7.6"
  }
 },
 "nbformat": 4,
 "nbformat_minor": 4
}
